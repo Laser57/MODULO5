{
 "cells": [
  {
   "cell_type": "markdown",
   "metadata": {},
   "source": [
    "# Sesión 04: Problemas de Regresión"
   ]
  },
  {
   "cell_type": "markdown",
   "metadata": {},
   "source": [
    "## Ejemplo 1: Entrenamiento y predicción con regresión"
   ]
  },
  {
   "cell_type": "markdown",
   "metadata": {},
   "source": [
    "En este ejemplo vamos a cargar datos de viviendas de boston y con ellos vamos a entrenar un modelo de regresión lineal. Para ello vamos a cargar un dataset y veremos sus características."
   ]
  },
  {
   "cell_type": "code",
   "execution_count": 8,
   "metadata": {},
   "outputs": [],
   "source": [
    "import numpy as np\n",
    "import pandas as pd\n",
    "from sklearn.datasets import load_boston\n",
    "from sklearn.model_selection import train_test_split\n",
    "from sklearn.linear_model import LinearRegression\n",
    "from sklearn.metrics import mean_squared_error"
   ]
  },
  {
   "cell_type": "code",
   "execution_count": 2,
   "metadata": {},
   "outputs": [
    {
     "data": {
      "text/html": [
       "<div>\n",
       "<style scoped>\n",
       "    .dataframe tbody tr th:only-of-type {\n",
       "        vertical-align: middle;\n",
       "    }\n",
       "\n",
       "    .dataframe tbody tr th {\n",
       "        vertical-align: top;\n",
       "    }\n",
       "\n",
       "    .dataframe thead th {\n",
       "        text-align: right;\n",
       "    }\n",
       "</style>\n",
       "<table border=\"1\" class=\"dataframe\">\n",
       "  <thead>\n",
       "    <tr style=\"text-align: right;\">\n",
       "      <th></th>\n",
       "      <th>CRIM</th>\n",
       "      <th>ZN</th>\n",
       "      <th>INDUS</th>\n",
       "      <th>CHAS</th>\n",
       "      <th>NOX</th>\n",
       "      <th>RM</th>\n",
       "      <th>AGE</th>\n",
       "      <th>DIS</th>\n",
       "      <th>RAD</th>\n",
       "      <th>TAX</th>\n",
       "      <th>PTRATIO</th>\n",
       "      <th>B</th>\n",
       "      <th>LSTAT</th>\n",
       "      <th>MEDV</th>\n",
       "    </tr>\n",
       "  </thead>\n",
       "  <tbody>\n",
       "    <tr>\n",
       "      <th>0</th>\n",
       "      <td>0.00632</td>\n",
       "      <td>18.0</td>\n",
       "      <td>2.31</td>\n",
       "      <td>0.0</td>\n",
       "      <td>0.538</td>\n",
       "      <td>6.575</td>\n",
       "      <td>65.2</td>\n",
       "      <td>4.0900</td>\n",
       "      <td>1.0</td>\n",
       "      <td>296.0</td>\n",
       "      <td>15.3</td>\n",
       "      <td>396.90</td>\n",
       "      <td>4.98</td>\n",
       "      <td>24.0</td>\n",
       "    </tr>\n",
       "    <tr>\n",
       "      <th>1</th>\n",
       "      <td>0.02731</td>\n",
       "      <td>0.0</td>\n",
       "      <td>7.07</td>\n",
       "      <td>0.0</td>\n",
       "      <td>0.469</td>\n",
       "      <td>6.421</td>\n",
       "      <td>78.9</td>\n",
       "      <td>4.9671</td>\n",
       "      <td>2.0</td>\n",
       "      <td>242.0</td>\n",
       "      <td>17.8</td>\n",
       "      <td>396.90</td>\n",
       "      <td>9.14</td>\n",
       "      <td>21.6</td>\n",
       "    </tr>\n",
       "    <tr>\n",
       "      <th>2</th>\n",
       "      <td>0.02729</td>\n",
       "      <td>0.0</td>\n",
       "      <td>7.07</td>\n",
       "      <td>0.0</td>\n",
       "      <td>0.469</td>\n",
       "      <td>7.185</td>\n",
       "      <td>61.1</td>\n",
       "      <td>4.9671</td>\n",
       "      <td>2.0</td>\n",
       "      <td>242.0</td>\n",
       "      <td>17.8</td>\n",
       "      <td>392.83</td>\n",
       "      <td>4.03</td>\n",
       "      <td>34.7</td>\n",
       "    </tr>\n",
       "    <tr>\n",
       "      <th>3</th>\n",
       "      <td>0.03237</td>\n",
       "      <td>0.0</td>\n",
       "      <td>2.18</td>\n",
       "      <td>0.0</td>\n",
       "      <td>0.458</td>\n",
       "      <td>6.998</td>\n",
       "      <td>45.8</td>\n",
       "      <td>6.0622</td>\n",
       "      <td>3.0</td>\n",
       "      <td>222.0</td>\n",
       "      <td>18.7</td>\n",
       "      <td>394.63</td>\n",
       "      <td>2.94</td>\n",
       "      <td>33.4</td>\n",
       "    </tr>\n",
       "    <tr>\n",
       "      <th>4</th>\n",
       "      <td>0.06905</td>\n",
       "      <td>0.0</td>\n",
       "      <td>2.18</td>\n",
       "      <td>0.0</td>\n",
       "      <td>0.458</td>\n",
       "      <td>7.147</td>\n",
       "      <td>54.2</td>\n",
       "      <td>6.0622</td>\n",
       "      <td>3.0</td>\n",
       "      <td>222.0</td>\n",
       "      <td>18.7</td>\n",
       "      <td>396.90</td>\n",
       "      <td>5.33</td>\n",
       "      <td>36.2</td>\n",
       "    </tr>\n",
       "  </tbody>\n",
       "</table>\n",
       "</div>"
      ],
      "text/plain": [
       "      CRIM    ZN  INDUS  CHAS    NOX     RM   AGE     DIS  RAD    TAX  \\\n",
       "0  0.00632  18.0   2.31   0.0  0.538  6.575  65.2  4.0900  1.0  296.0   \n",
       "1  0.02731   0.0   7.07   0.0  0.469  6.421  78.9  4.9671  2.0  242.0   \n",
       "2  0.02729   0.0   7.07   0.0  0.469  7.185  61.1  4.9671  2.0  242.0   \n",
       "3  0.03237   0.0   2.18   0.0  0.458  6.998  45.8  6.0622  3.0  222.0   \n",
       "4  0.06905   0.0   2.18   0.0  0.458  7.147  54.2  6.0622  3.0  222.0   \n",
       "\n",
       "   PTRATIO       B  LSTAT  MEDV  \n",
       "0     15.3  396.90   4.98  24.0  \n",
       "1     17.8  396.90   9.14  21.6  \n",
       "2     17.8  392.83   4.03  34.7  \n",
       "3     18.7  394.63   2.94  33.4  \n",
       "4     18.7  396.90   5.33  36.2  "
      ]
     },
     "execution_count": 2,
     "metadata": {},
     "output_type": "execute_result"
    }
   ],
   "source": [
    "boston_dataset = load_boston()\n",
    "bostonDataFrame = pd.DataFrame(boston_dataset.data, columns=boston_dataset.feature_names)\n",
    "bostonDataFrame['MEDV'] = boston_dataset.target\n",
    "bostonDataFrame.head()"
   ]
  },
  {
   "cell_type": "markdown",
   "metadata": {},
   "source": [
    "Los datos disponibles del dataset son:\n",
    "\n",
    "CRIM: Tasa de crimen per-capita.\n",
    "ZN: Proporción de tierras para uso residenciales.\n",
    "INDUS: Proporción de acres de negocios por pueblo.\n",
    "CHAS: 1 si la propiedad colinda con el rio Charles, 0 sino.\n",
    "NOX: Concentracón de ácido nítrico. (parte por 10 millones)\n",
    "RM: Cantidad promedio de habitaciones por vivienda.\n",
    "AGE: Proporción de unidades construidas antes de 1940 con dueño.\n",
    "DIS: Distancias a 5 centros de empleo de Boston.\n",
    "RAD: Índice de accesibilidad a vías rápidas.\n",
    "TAX: Impuestos por cada 10,000 USD de costo.\n",
    "PTRATIO: Radio maestro-pupilo por pueblo.\n",
    "B: 1000(Bk — 0.63)², donde Bk es la proporcion de personas descendientes de afroamericanos.\n",
    "LSTAT: Porcentaje de personas de estratos bajos de la población.\n",
    "\n",
    "Y el dato a predecir es: MEDV: Valor promedio de casas ocupadas (en miles)."
   ]
  },
  {
   "cell_type": "code",
   "execution_count": 8,
   "metadata": {},
   "outputs": [
    {
     "name": "stdout",
     "output_type": "stream",
     "text": [
      "(354, 2)\n",
      "(152, 2)\n",
      "(354,)\n",
      "(152,)\n"
     ]
    }
   ],
   "source": [
    "#Aqui elegiremos 2 campos: Porcentaje de personas de estatos bajos, y cantidad promedio de habitaciones por vivienda.\n",
    "X = bostonDataFrame[['LSTAT', 'RM']]\n",
    "Y = bostonDataFrame['MEDV']\n",
    "\n",
    "# Dividamos la muestra en el subconjunto de entrenamiento y el subconjunto de prueba\n",
    "X_train, X_test, Y_train, Y_test = train_test_split(X, Y, test_size = 0.3, random_state=5)\n",
    "print(X_train.shape)\n",
    "print(X_test.shape)\n",
    "print(Y_train.shape)\n",
    "print(Y_test.shape)"
   ]
  },
  {
   "cell_type": "markdown",
   "metadata": {},
   "source": [
    "Ahora vamos a generar la instancia del modelo y a entrenarlo."
   ]
  },
  {
   "cell_type": "code",
   "execution_count": 9,
   "metadata": {},
   "outputs": [
    {
     "data": {
      "text/plain": [
       "LinearRegression()"
      ]
     },
     "execution_count": 9,
     "metadata": {},
     "output_type": "execute_result"
    }
   ],
   "source": [
    "lin_model = LinearRegression()\n",
    "lin_model.fit(X_train, Y_train)"
   ]
  },
  {
   "cell_type": "code",
   "execution_count": 10,
   "metadata": {},
   "outputs": [
    {
     "name": "stdout",
     "output_type": "stream",
     "text": [
      "[-0.65957972  4.83197581]\n",
      "0.38437936780344373\n"
     ]
    }
   ],
   "source": [
    "print(lin_model.coef_)\n",
    "print(lin_model.intercept_)"
   ]
  },
  {
   "cell_type": "markdown",
   "metadata": {},
   "source": [
    "Ahora podemos predicir los valores ajustados (Y) y evaluar su desempeño. Esto lo haremos tanto para el conjunto de entrenamiento como para el de prueba."
   ]
  },
  {
   "cell_type": "code",
   "execution_count": 11,
   "metadata": {},
   "outputs": [
    {
     "name": "stdout",
     "output_type": "stream",
     "text": [
      "Entrenamiento: MSE =27.99751000076412\n",
      "Pruebas: MSE =36.49422110915325\n"
     ]
    }
   ],
   "source": [
    "y_train_predict = lin_model.predict(X_train)\n",
    "MSE = mean_squared_error(Y_train,y_train_predict)\n",
    "print(\"Entrenamiento: MSE =\"+str(MSE))\n",
    "\n",
    "y_test_predict = lin_model.predict(X_test)\n",
    "MSE = (mean_squared_error(Y_test, y_test_predict))\n",
    "print(\"Pruebas: MSE =\"+str(MSE))"
   ]
  },
  {
   "cell_type": "markdown",
   "metadata": {},
   "source": [
    "Ahora vamos a comparar las predicciones del modelo contra el valor esperado (observado)"
   ]
  },
  {
   "cell_type": "code",
   "execution_count": 12,
   "metadata": {},
   "outputs": [
    {
     "data": {
      "text/html": [
       "<div>\n",
       "<style scoped>\n",
       "    .dataframe tbody tr th:only-of-type {\n",
       "        vertical-align: middle;\n",
       "    }\n",
       "\n",
       "    .dataframe tbody tr th {\n",
       "        vertical-align: top;\n",
       "    }\n",
       "\n",
       "    .dataframe thead th {\n",
       "        text-align: right;\n",
       "    }\n",
       "</style>\n",
       "<table border=\"1\" class=\"dataframe\">\n",
       "  <thead>\n",
       "    <tr style=\"text-align: right;\">\n",
       "      <th></th>\n",
       "      <th>valor_real</th>\n",
       "      <th>prediccion</th>\n",
       "    </tr>\n",
       "  </thead>\n",
       "  <tbody>\n",
       "    <tr>\n",
       "      <th>0</th>\n",
       "      <td>37.6</td>\n",
       "      <td>37.168980</td>\n",
       "    </tr>\n",
       "    <tr>\n",
       "      <th>1</th>\n",
       "      <td>27.9</td>\n",
       "      <td>29.320354</td>\n",
       "    </tr>\n",
       "    <tr>\n",
       "      <th>2</th>\n",
       "      <td>22.6</td>\n",
       "      <td>25.580271</td>\n",
       "    </tr>\n",
       "    <tr>\n",
       "      <th>3</th>\n",
       "      <td>13.8</td>\n",
       "      <td>1.156466</td>\n",
       "    </tr>\n",
       "    <tr>\n",
       "      <th>4</th>\n",
       "      <td>35.2</td>\n",
       "      <td>33.207071</td>\n",
       "    </tr>\n",
       "    <tr>\n",
       "      <th>5</th>\n",
       "      <td>10.4</td>\n",
       "      <td>8.441975</td>\n",
       "    </tr>\n",
       "    <tr>\n",
       "      <th>6</th>\n",
       "      <td>23.9</td>\n",
       "      <td>30.372213</td>\n",
       "    </tr>\n",
       "    <tr>\n",
       "      <th>7</th>\n",
       "      <td>29.0</td>\n",
       "      <td>27.574632</td>\n",
       "    </tr>\n",
       "    <tr>\n",
       "      <th>8</th>\n",
       "      <td>22.8</td>\n",
       "      <td>26.129767</td>\n",
       "    </tr>\n",
       "    <tr>\n",
       "      <th>9</th>\n",
       "      <td>23.2</td>\n",
       "      <td>22.016243</td>\n",
       "    </tr>\n",
       "  </tbody>\n",
       "</table>\n",
       "</div>"
      ],
      "text/plain": [
       "   valor_real  prediccion\n",
       "0        37.6   37.168980\n",
       "1        27.9   29.320354\n",
       "2        22.6   25.580271\n",
       "3        13.8    1.156466\n",
       "4        35.2   33.207071\n",
       "5        10.4    8.441975\n",
       "6        23.9   30.372213\n",
       "7        29.0   27.574632\n",
       "8        22.8   26.129767\n",
       "9        23.2   22.016243"
      ]
     },
     "execution_count": 12,
     "metadata": {},
     "output_type": "execute_result"
    }
   ],
   "source": [
    "df_predicciones = pd.DataFrame({'valor_real':Y_test, 'prediccion':y_test_predict})\n",
    "df_predicciones = df_predicciones.reset_index(drop = True)\n",
    "df_predicciones.head(10)"
   ]
  },
  {
   "cell_type": "markdown",
   "metadata": {},
   "source": [
    "# Reto 01:\n",
    "Utilizando el código anteior, modifica los datos de entrada: agrega, cambia o quita datos. Revisa cómo eso afecta las predicciones. También aumenta los datos de entrenamiento y reduce los de prueba; y como extra, intenta normalizar los datos para mejorar su rendimiento."
   ]
  },
  {
   "cell_type": "code",
   "execution_count": 17,
   "metadata": {},
   "outputs": [
    {
     "name": "stdout",
     "output_type": "stream",
     "text": [
      "Index(['CRIM', 'ZN', 'INDUS', 'CHAS', 'NOX', 'RM', 'AGE', 'DIS', 'RAD', 'TAX',\n",
      "       'PTRATIO', 'B', 'LSTAT', 'MEDV'],\n",
      "      dtype='object')\n"
     ]
    }
   ],
   "source": [
    "# Vamos a recordar qué descriptores tenemos\n",
    "print(bostonDataFrame.columns)"
   ]
  },
  {
   "cell_type": "code",
   "execution_count": 18,
   "metadata": {},
   "outputs": [],
   "source": [
    "#Aqui elegiremos las variables explicativas de nuestro modelo:\n",
    "X = bostonDataFrame[['LSTAT', 'RM']]\n",
    "Y = bostonDataFrame['MEDV']"
   ]
  },
  {
   "cell_type": "code",
   "execution_count": 28,
   "metadata": {},
   "outputs": [
    {
     "name": "stdout",
     "output_type": "stream",
     "text": [
      "(354, 2)\n",
      "(152, 2)\n",
      "(354,)\n",
      "(152,)\n"
     ]
    }
   ],
   "source": [
    "# Dividamos la muestra en el subconjunto de entrenamiento y el subconjunto de prueba\n",
    "# Usa como argumento \"random_state = 5\" para que todos tengamos los mismos resultados.`\n",
    "\n",
    "### DESARROLLA AQUÍ TU CÓDIGO ###\n",
    "\n",
    "#Aqui elegiremos 2 campos: Porcentaje de personas de estatos bajos, y cantidad promedio de habitaciones por vivienda.\n",
    "X = bostonDataFrame[['LSTAT', 'RM']]\n",
    "Y = bostonDataFrame['MEDV']\n",
    "\n",
    "# Dividamos la muestra en el subconjunto de entrenamiento y el subconjunto de prueba\n",
    "X_train, X_test, Y_train, Y_test = train_test_split(X, Y,train_size=0.7, test_size = 0.3, random_state=5)\n",
    "print(X_train.shape)\n",
    "print(X_test.shape)\n",
    "print(Y_train.shape)\n",
    "print(Y_test.shape)"
   ]
  },
  {
   "cell_type": "code",
   "execution_count": 29,
   "metadata": {},
   "outputs": [
    {
     "data": {
      "text/plain": [
       "LinearRegression(normalize=True)"
      ]
     },
     "execution_count": 29,
     "metadata": {},
     "output_type": "execute_result"
    }
   ],
   "source": [
    "# Genera una instancia del modelo de regresión lineal y ajústalo a los datos de entrenamiento\n",
    "\n",
    "### DESARROLLA AQUÍ TU CÓDIGO ###\n",
    "\n",
    "lin_model = LinearRegression(normalize=True)\n",
    "lin_model.fit(X_train, Y_train)"
   ]
  },
  {
   "cell_type": "code",
   "execution_count": 30,
   "metadata": {},
   "outputs": [
    {
     "name": "stdout",
     "output_type": "stream",
     "text": [
      "Entrenamiento: MSE =27.997510000764123\n",
      "Pruebas: MSE =36.49422110915325\n"
     ]
    }
   ],
   "source": [
    "# Genera la predicción con los datos de prueba\n",
    "\n",
    "### DESARROLLA AQUÍ TU CÓDIGO ###\n",
    "\n",
    "y_train_predict = lin_model.predict(X_train)\n",
    "MSE = mean_squared_error(Y_train,y_train_predict)\n",
    "print(\"Entrenamiento: MSE =\"+str(MSE))\n",
    "\n",
    "y_test_predict = lin_model.predict(X_test)\n",
    "MSE = (mean_squared_error(Y_test, y_test_predict))\n",
    "print(\"Pruebas: MSE =\"+str(MSE))"
   ]
  },
  {
   "cell_type": "code",
   "execution_count": 31,
   "metadata": {},
   "outputs": [
    {
     "data": {
      "text/html": [
       "<div>\n",
       "<style scoped>\n",
       "    .dataframe tbody tr th:only-of-type {\n",
       "        vertical-align: middle;\n",
       "    }\n",
       "\n",
       "    .dataframe tbody tr th {\n",
       "        vertical-align: top;\n",
       "    }\n",
       "\n",
       "    .dataframe thead th {\n",
       "        text-align: right;\n",
       "    }\n",
       "</style>\n",
       "<table border=\"1\" class=\"dataframe\">\n",
       "  <thead>\n",
       "    <tr style=\"text-align: right;\">\n",
       "      <th></th>\n",
       "      <th>valor_real</th>\n",
       "      <th>prediccion</th>\n",
       "    </tr>\n",
       "  </thead>\n",
       "  <tbody>\n",
       "    <tr>\n",
       "      <th>0</th>\n",
       "      <td>37.6</td>\n",
       "      <td>37.168980</td>\n",
       "    </tr>\n",
       "    <tr>\n",
       "      <th>1</th>\n",
       "      <td>27.9</td>\n",
       "      <td>29.320354</td>\n",
       "    </tr>\n",
       "    <tr>\n",
       "      <th>2</th>\n",
       "      <td>22.6</td>\n",
       "      <td>25.580271</td>\n",
       "    </tr>\n",
       "    <tr>\n",
       "      <th>3</th>\n",
       "      <td>13.8</td>\n",
       "      <td>1.156466</td>\n",
       "    </tr>\n",
       "    <tr>\n",
       "      <th>4</th>\n",
       "      <td>35.2</td>\n",
       "      <td>33.207071</td>\n",
       "    </tr>\n",
       "    <tr>\n",
       "      <th>5</th>\n",
       "      <td>10.4</td>\n",
       "      <td>8.441975</td>\n",
       "    </tr>\n",
       "    <tr>\n",
       "      <th>6</th>\n",
       "      <td>23.9</td>\n",
       "      <td>30.372213</td>\n",
       "    </tr>\n",
       "    <tr>\n",
       "      <th>7</th>\n",
       "      <td>29.0</td>\n",
       "      <td>27.574632</td>\n",
       "    </tr>\n",
       "    <tr>\n",
       "      <th>8</th>\n",
       "      <td>22.8</td>\n",
       "      <td>26.129767</td>\n",
       "    </tr>\n",
       "    <tr>\n",
       "      <th>9</th>\n",
       "      <td>23.2</td>\n",
       "      <td>22.016243</td>\n",
       "    </tr>\n",
       "  </tbody>\n",
       "</table>\n",
       "</div>"
      ],
      "text/plain": [
       "   valor_real  prediccion\n",
       "0        37.6   37.168980\n",
       "1        27.9   29.320354\n",
       "2        22.6   25.580271\n",
       "3        13.8    1.156466\n",
       "4        35.2   33.207071\n",
       "5        10.4    8.441975\n",
       "6        23.9   30.372213\n",
       "7        29.0   27.574632\n",
       "8        22.8   26.129767\n",
       "9        23.2   22.016243"
      ]
     },
     "execution_count": 31,
     "metadata": {},
     "output_type": "execute_result"
    }
   ],
   "source": [
    "# Evalua el modelo con los datos de prueba\n",
    "\n",
    "### DESARROLLA AQUÍ TU CÓDIGO ###\n",
    "df_predicciones = pd.DataFrame({'valor_real':Y_test, 'prediccion':y_test_predict})\n",
    "df_predicciones = df_predicciones.reset_index(drop = True)\n",
    "df_predicciones.head(10)"
   ]
  },
  {
   "cell_type": "markdown",
   "metadata": {},
   "source": [
    "# Ejemplo 02: Regresión polinomial\n",
    "En este ejemplo crearemos un sistema de regresión polinomial: Utilizaremos los grados de un polinomio para curvear la línea (o el plano) y evaluar que tal mejora una predicción"
   ]
  },
  {
   "cell_type": "code",
   "execution_count": 32,
   "metadata": {},
   "outputs": [],
   "source": [
    "import numpy as np\n",
    "import pandas as pd\n",
    "from sklearn.datasets import load_boston\n",
    "from sklearn.model_selection import train_test_split\n",
    "from sklearn.linear_model import LinearRegression\n",
    "from sklearn.preprocessing import PolynomialFeatures\n",
    "from sklearn.metrics import mean_squared_error"
   ]
  },
  {
   "cell_type": "code",
   "execution_count": 33,
   "metadata": {},
   "outputs": [],
   "source": [
    "boston_dataset = load_boston()\n",
    "bostonDataFrame = pd.DataFrame(boston_dataset.data, columns=boston_dataset.feature_names)\n",
    "bostonDataFrame['MEDV'] = boston_dataset.target\n",
    "X = bostonDataFrame[['LSTAT', 'RM']]\n",
    "Y = bostonDataFrame['MEDV']\n",
    "X_train, X_test, Y_train, Y_test = train_test_split(X, Y, test_size = 0.4, random_state=5)"
   ]
  },
  {
   "cell_type": "markdown",
   "metadata": {},
   "source": [
    "Evaluamos nuestro modelo usando un polinomio de grado uno (lineal)"
   ]
  },
  {
   "cell_type": "code",
   "execution_count": 36,
   "metadata": {},
   "outputs": [
    {
     "name": "stdout",
     "output_type": "stream",
     "text": [
      "Entrenamiento: MSE =28.139615508258473\n",
      "Pruebas: MSE =34.283593661377765\n"
     ]
    },
    {
     "data": {
      "text/html": [
       "<div>\n",
       "<style scoped>\n",
       "    .dataframe tbody tr th:only-of-type {\n",
       "        vertical-align: middle;\n",
       "    }\n",
       "\n",
       "    .dataframe tbody tr th {\n",
       "        vertical-align: top;\n",
       "    }\n",
       "\n",
       "    .dataframe thead th {\n",
       "        text-align: right;\n",
       "    }\n",
       "</style>\n",
       "<table border=\"1\" class=\"dataframe\">\n",
       "  <thead>\n",
       "    <tr style=\"text-align: right;\">\n",
       "      <th></th>\n",
       "      <th>valor_real</th>\n",
       "      <th>prediccion</th>\n",
       "      <th>diferencia</th>\n",
       "    </tr>\n",
       "  </thead>\n",
       "  <tbody>\n",
       "    <tr>\n",
       "      <th>0</th>\n",
       "      <td>37.6</td>\n",
       "      <td>37.647015</td>\n",
       "      <td>-0.047015</td>\n",
       "    </tr>\n",
       "    <tr>\n",
       "      <th>1</th>\n",
       "      <td>27.9</td>\n",
       "      <td>29.032609</td>\n",
       "      <td>-1.132609</td>\n",
       "    </tr>\n",
       "    <tr>\n",
       "      <th>2</th>\n",
       "      <td>22.6</td>\n",
       "      <td>25.444085</td>\n",
       "      <td>-2.844085</td>\n",
       "    </tr>\n",
       "    <tr>\n",
       "      <th>3</th>\n",
       "      <td>13.8</td>\n",
       "      <td>1.874892</td>\n",
       "      <td>11.925108</td>\n",
       "    </tr>\n",
       "    <tr>\n",
       "      <th>4</th>\n",
       "      <td>35.2</td>\n",
       "      <td>33.706810</td>\n",
       "      <td>1.493190</td>\n",
       "    </tr>\n",
       "    <tr>\n",
       "      <th>5</th>\n",
       "      <td>10.4</td>\n",
       "      <td>8.846136</td>\n",
       "      <td>1.553864</td>\n",
       "    </tr>\n",
       "    <tr>\n",
       "      <th>6</th>\n",
       "      <td>23.9</td>\n",
       "      <td>30.363831</td>\n",
       "      <td>-6.463831</td>\n",
       "    </tr>\n",
       "    <tr>\n",
       "      <th>7</th>\n",
       "      <td>29.0</td>\n",
       "      <td>27.577564</td>\n",
       "      <td>1.422436</td>\n",
       "    </tr>\n",
       "    <tr>\n",
       "      <th>8</th>\n",
       "      <td>22.8</td>\n",
       "      <td>26.271478</td>\n",
       "      <td>-3.471478</td>\n",
       "    </tr>\n",
       "    <tr>\n",
       "      <th>9</th>\n",
       "      <td>23.2</td>\n",
       "      <td>22.275428</td>\n",
       "      <td>0.924572</td>\n",
       "    </tr>\n",
       "  </tbody>\n",
       "</table>\n",
       "</div>"
      ],
      "text/plain": [
       "   valor_real  prediccion  diferencia\n",
       "0        37.6   37.647015   -0.047015\n",
       "1        27.9   29.032609   -1.132609\n",
       "2        22.6   25.444085   -2.844085\n",
       "3        13.8    1.874892   11.925108\n",
       "4        35.2   33.706810    1.493190\n",
       "5        10.4    8.846136    1.553864\n",
       "6        23.9   30.363831   -6.463831\n",
       "7        29.0   27.577564    1.422436\n",
       "8        22.8   26.271478   -3.471478\n",
       "9        23.2   22.275428    0.924572"
      ]
     },
     "execution_count": 36,
     "metadata": {},
     "output_type": "execute_result"
    }
   ],
   "source": [
    "lin_model = LinearRegression()\n",
    "lin_model.fit(X_train, Y_train)\n",
    "y_train_predict = lin_model.predict(X_train)\n",
    "MSE = mean_squared_error(Y_train,y_train_predict)\n",
    "print(\"Entrenamiento: MSE =\"+str(MSE))\n",
    "\n",
    "y_test_predict = lin_model.predict(X_test)\n",
    "MSE = (mean_squared_error(Y_test, y_test_predict))\n",
    "print(\"Pruebas: MSE =\"+str(MSE))\n",
    "\n",
    "df_predicciones = pd.DataFrame({'valor_real':Y_test, 'prediccion':y_test_predict, 'diferencia':Y_test-y_test_predict})\n",
    "df_predicciones = df_predicciones.reset_index(drop = True)\n",
    "df_predicciones.head(10)"
   ]
  },
  {
   "cell_type": "markdown",
   "metadata": {},
   "source": [
    "Ahora probemos con un polinomio de grado dos (parábola)"
   ]
  },
  {
   "cell_type": "code",
   "execution_count": null,
   "metadata": {},
   "outputs": [],
   "source": [
    "poly_model = LinearRegression()\n",
    "poly = PolynomialFeatures(degree=2)\n",
    "\n",
    "Xpolytrain = poly.fit_transform(X_train)\n",
    "Xpolytest = poly.fit_transform(X_test)\n",
    "\n",
    "poly_model.fit(Xpolytrain, Y_train)\n",
    "y_train_predict = poly_model.predict(Xpolytrain)\n",
    "\n",
    "MSE = mean_squared_error(Y_train,y_train_predict)\n",
    "print(\"Entrenamiento: MSE =\"+str(MSE))\n",
    "\n",
    "y_test_predict = poly_model.predict(Xpolytest)\n",
    "MSE = (mean_squared_error(Y_test, y_test_predict))\n",
    "print(\"Pruebas: MSE =\"+str(MSE))\n",
    "\n",
    "df_predicciones = pd.DataFrame({'valor_real':Y_test, 'prediccion':y_test_predict, 'diferencia':Y_test-y_test_predict})\n",
    "df_predicciones = df_predicciones.reset_index(drop = True)\n",
    "df_predicciones.head(10)"
   ]
  },
  {
   "cell_type": "markdown",
   "metadata": {},
   "source": [
    "## Reto 02:\n",
    "Con los datos anteriores ajusta el modelo de regresión polinomial para considerar grados de tres a cinco y evalua el MSE para cada uno de ellos. ¿Cuál es el mejor de los 5 modelos construídos?"
   ]
  },
  {
   "cell_type": "code",
   "execution_count": 43,
   "metadata": {},
   "outputs": [
    {
     "name": "stdout",
     "output_type": "stream",
     "text": [
      "Entrenamiento Grado = 3: MSE =18.11873215928704\n",
      "Pruebas Grado = 3: MSE =23.25843062660905\n",
      "Entrenamiento Grado = 4: MSE =17.314670871871137\n",
      "Pruebas Grado = 4: MSE =22.803981060391855\n",
      "Entrenamiento Grado = 5: MSE =16.32632573947143\n",
      "Pruebas Grado = 5: MSE =131.72681676510604\n"
     ]
    }
   ],
   "source": [
    "# Polinomio de grado 3: \n",
    "poly_model = LinearRegression()\n",
    "poly = PolynomialFeatures(degree=3)\n",
    "\n",
    "# Transforma las muestras de prueba y entrenamiento a grado 3\n",
    "Xpolytrain = poly.fit_transform(X_train)\n",
    "Xpolytest = poly.fit_transform(X_test)\n",
    "\n",
    "# Evalua el modelo con la muestra de entrenamiento\n",
    "poly_model.fit(Xpolytrain,Y_train)\n",
    "y_train_predict = poly_model.predict(Xpolytrain)\n",
    "\n",
    "MSE = mean_squared_error(Y_train,y_train_predict)\n",
    "print(\"Entrenamiento Grado = 3: MSE =\"+str(MSE))\n",
    "\n",
    "# Evalue el modelo con la muestra de prueba\n",
    "y_test_predict = poly_model.predict(Xpolytest)\n",
    "MSE = (mean_squared_error(Y_test, y_test_predict))\n",
    "print(\"Pruebas Grado = 3: MSE =\"+str(MSE))\n",
    "\n",
    "# Ahora genera un modelo lineal con Polinomio de grado 4:\n",
    "poly_model = LinearRegression()\n",
    "poly = PolynomialFeatures(degree=4)\n",
    "\n",
    "# Transforma las muestras de prueba y entrenamiento a grado 4\n",
    "Xpolytrain = poly.fit_transform(X_train)\n",
    "Xpolytest = poly.fit_transform(X_test)\n",
    "\n",
    "# Evalua el modelo con la muestra de entrenamiento\n",
    "poly_model.fit(Xpolytrain,Y_train)\n",
    "y_train_predict = poly_model.predict(Xpolytrain)\n",
    "\n",
    "MSE = mean_squared_error(Y_train,y_train_predict)\n",
    "print(\"Entrenamiento Grado = 4: MSE =\"+str(MSE))\n",
    "\n",
    "# Evalue el modelo con la muestra de prueba\n",
    "y_test_predict = poly_model.predict(Xpolytest)\n",
    "MSE = (mean_squared_error(Y_test, y_test_predict))\n",
    "print(\"Pruebas Grado = 4: MSE =\"+str(MSE))\n",
    "\n",
    "\n",
    "\n",
    "# Ahora genera un modelo lineal con Polinomio de grado 5:\n",
    "\n",
    "poly_model = LinearRegression()\n",
    "poly = PolynomialFeatures(degree=5,interaction_only=True)\n",
    "\n",
    "# Transforma las muestras de prueba y entrenamiento a grado 5\n",
    "Xpolytrain = poly.fit_transform(X_train)\n",
    "Xpolytest = poly.fit_transform(X_test)\n",
    "\n",
    "# Evalua el modelo con la muestra de entrenamiento\n",
    "poly_model.fit(Xpolytrain,Y_train)\n",
    "y_train_predict = poly_model.predict(Xpolytrain)\n",
    "\n",
    "MSE = mean_squared_error(Y_train,y_train_predict)\n",
    "print(\"Entrenamiento Grado = 5: MSE =\"+str(MSE))\n",
    "\n",
    "# Evalue el modelo con la muestra de prueba\n",
    "y_test_predict = poly_model.predict(Xpolytest)\n",
    "MSE = (mean_squared_error(Y_test, y_test_predict))\n",
    "print(\"Pruebas Grado = 5: MSE =\"+str(MSE))\n"
   ]
  },
  {
   "cell_type": "markdown",
   "metadata": {},
   "source": [
    "# Ejemplo 03: Regresión en series de tiempo"
   ]
  },
  {
   "cell_type": "markdown",
   "metadata": {},
   "source": [
    "En este ejemplo vamos a tomar una serie de tiempo de temperatura y con base en los datos de 10 días anteriores, trataremos de predecir la temperatura del día siguiente. Esto nos muestra como algo tan volátil de predecir como el clima puede ser predicho con un algoritmo de regresión lineal ... a estos modelos se les conoce como autorregresivos de orden \"p\", en nuestro caso, AR(10)"
   ]
  },
  {
   "cell_type": "code",
   "execution_count": 44,
   "metadata": {},
   "outputs": [],
   "source": [
    "import numpy as np\n",
    "import pandas as pd\n",
    "from sklearn.datasets import load_boston\n",
    "from sklearn.model_selection import train_test_split\n",
    "from sklearn.linear_model import LinearRegression\n",
    "from sklearn.metrics import mean_squared_error"
   ]
  },
  {
   "cell_type": "markdown",
   "metadata": {},
   "source": [
    "Esta función transforma una serie de tiempo en un dataset, como vimos en clase: toma N valores y el N+1 lo vuelve una salida esperada."
   ]
  },
  {
   "cell_type": "code",
   "execution_count": 45,
   "metadata": {},
   "outputs": [],
   "source": [
    "def transformarSerieADataset(serie, elementosPorMuestra):\n",
    "    dataset = None\n",
    "    salidasDataset = None\n",
    "    for counter in range (len(serie)-elementosPorMuestra-1):        \n",
    "        muestra = np.array([serie[counter:counter+elementosPorMuestra]])        \n",
    "        salida = np.array([serie[counter+elementosPorMuestra]])\n",
    "        if dataset is None:\n",
    "            dataset = muestra\n",
    "        else:\n",
    "            dataset = np.append(dataset,muestra,axis = 0)\n",
    "        if salidasDataset is None:\n",
    "            salidasDataset = salida    \n",
    "        else:        \n",
    "            salidasDataset = np.append(salidasDataset,salida)\n",
    "    return dataset, salidasDataset"
   ]
  },
  {
   "cell_type": "code",
   "execution_count": 19,
   "metadata": {},
   "outputs": [
    {
     "name": "stdout",
     "output_type": "stream",
     "text": [
      "[[20.7 17.9 18.8 ... 17.4 21.8 20. ]\n",
      " [17.9 18.8 14.6 ... 21.8 20.  16.2]\n",
      " [18.8 14.6 15.8 ... 20.  16.2 13.3]\n",
      " ...\n",
      " [17.2 14.7 15.4 ... 12.9 14.6 14. ]\n",
      " [14.7 15.4 13.1 ... 14.6 14.  13.6]\n",
      " [15.4 13.1 13.2 ... 14.  13.6 13.5]]\n",
      "[16.2 13.3 16.7 ... 13.6 13.5 15.7]\n"
     ]
    }
   ],
   "source": [
    "# Vamos a cargar nuestra base de datos de temperatura y a transformarla con la función anterior\n",
    "df_timeseries = pd.read_csv('timeseries_temperature.csv')\n",
    "df_timeseries['Temp']\n",
    "serie = df_timeseries['Temp'].to_numpy()\n",
    "\n",
    "X, Y = transformarSerieADataset(serie, elementosPorMuestra = 10)\n",
    "print(X)\n",
    "print(Y)"
   ]
  },
  {
   "cell_type": "markdown",
   "metadata": {},
   "source": [
    "Aqui vamos a dividir los datos en Train y Test y entrenaremos un regresor lineal para obtener lo mejor que pueda una predicción sobre el clima"
   ]
  },
  {
   "cell_type": "code",
   "execution_count": 48,
   "metadata": {},
   "outputs": [
    {
     "name": "stdout",
     "output_type": "stream",
     "text": [
      "(2183, 10)\n",
      "(1456, 10)\n",
      "(2183,)\n",
      "(1456,)\n"
     ]
    }
   ],
   "source": [
    "X_train, X_test, Y_train, Y_test = train_test_split(X, Y,shuffle=False, test_size = 0.4, random_state=5)\n",
    "print(X_train.shape)\n",
    "print(X_test.shape)\n",
    "print(Y_train.shape)\n",
    "print(Y_test.shape)"
   ]
  },
  {
   "cell_type": "markdown",
   "metadata": {},
   "source": [
    "#### Entrenamiento y predicciones:\n",
    "Trataremos de predecir que tal funciona el regresor lineal."
   ]
  },
  {
   "cell_type": "code",
   "execution_count": 22,
   "metadata": {},
   "outputs": [
    {
     "name": "stdout",
     "output_type": "stream",
     "text": [
      "Entrenamiento: MSE =194.59178171661102\n",
      "Pruebas: MSE =1010.9617023683251\n"
     ]
    }
   ],
   "source": [
    "lin_model = LinearRegression()\n",
    "lin_model.fit(X_train, Y_train)\n",
    "\n",
    "y_train_predict = lin_model.predict(X_train)\n",
    "MSE = mean_squared_error(Y_train,y_train_predict)\n",
    "print(\"Entrenamiento: MSE =\"+str(MSE))\n",
    "\n",
    "y_test_predict = lin_model.predict(X_test)\n",
    "MSE = (mean_squared_error(Y_test, y_test_predict))\n",
    "print(\"Pruebas: MSE =\"+str(MSE))"
   ]
  },
  {
   "cell_type": "markdown",
   "metadata": {},
   "source": [
    "#### Predicciones:\n",
    "Ahora, veamos que tal predijo nuestro modelo poniendo lado a lado las predicciones y los valores reales"
   ]
  },
  {
   "cell_type": "code",
   "execution_count": 23,
   "metadata": {},
   "outputs": [
    {
     "data": {
      "text/html": [
       "<div>\n",
       "<style scoped>\n",
       "    .dataframe tbody tr th:only-of-type {\n",
       "        vertical-align: middle;\n",
       "    }\n",
       "\n",
       "    .dataframe tbody tr th {\n",
       "        vertical-align: top;\n",
       "    }\n",
       "\n",
       "    .dataframe thead th {\n",
       "        text-align: right;\n",
       "    }\n",
       "</style>\n",
       "<table border=\"1\" class=\"dataframe\">\n",
       "  <thead>\n",
       "    <tr style=\"text-align: right;\">\n",
       "      <th></th>\n",
       "      <th>valor real</th>\n",
       "      <th>prediccion</th>\n",
       "      <th>diferencia</th>\n",
       "    </tr>\n",
       "  </thead>\n",
       "  <tbody>\n",
       "    <tr>\n",
       "      <th>0</th>\n",
       "      <td>1207.680054</td>\n",
       "      <td>1206.921174</td>\n",
       "      <td>0.758879</td>\n",
       "    </tr>\n",
       "    <tr>\n",
       "      <th>1</th>\n",
       "      <td>1189.130005</td>\n",
       "      <td>1208.457691</td>\n",
       "      <td>-19.327686</td>\n",
       "    </tr>\n",
       "    <tr>\n",
       "      <th>2</th>\n",
       "      <td>1202.310059</td>\n",
       "      <td>1192.771140</td>\n",
       "      <td>9.538918</td>\n",
       "    </tr>\n",
       "    <tr>\n",
       "      <th>3</th>\n",
       "      <td>1208.670044</td>\n",
       "      <td>1204.330994</td>\n",
       "      <td>4.339050</td>\n",
       "    </tr>\n",
       "    <tr>\n",
       "      <th>4</th>\n",
       "      <td>1215.449951</td>\n",
       "      <td>1205.913797</td>\n",
       "      <td>9.536154</td>\n",
       "    </tr>\n",
       "    <tr>\n",
       "      <th>5</th>\n",
       "      <td>1217.140015</td>\n",
       "      <td>1217.556960</td>\n",
       "      <td>-0.416945</td>\n",
       "    </tr>\n",
       "    <tr>\n",
       "      <th>6</th>\n",
       "      <td>1243.010010</td>\n",
       "      <td>1216.742844</td>\n",
       "      <td>26.267166</td>\n",
       "    </tr>\n",
       "    <tr>\n",
       "      <th>7</th>\n",
       "      <td>1243.640015</td>\n",
       "      <td>1241.376383</td>\n",
       "      <td>2.263631</td>\n",
       "    </tr>\n",
       "    <tr>\n",
       "      <th>8</th>\n",
       "      <td>1253.069946</td>\n",
       "      <td>1239.859422</td>\n",
       "      <td>13.210525</td>\n",
       "    </tr>\n",
       "    <tr>\n",
       "      <th>9</th>\n",
       "      <td>1245.489990</td>\n",
       "      <td>1254.694657</td>\n",
       "      <td>-9.204666</td>\n",
       "    </tr>\n",
       "  </tbody>\n",
       "</table>\n",
       "</div>"
      ],
      "text/plain": [
       "    valor real   prediccion  diferencia\n",
       "0  1207.680054  1206.921174    0.758879\n",
       "1  1189.130005  1208.457691  -19.327686\n",
       "2  1202.310059  1192.771140    9.538918\n",
       "3  1208.670044  1204.330994    4.339050\n",
       "4  1215.449951  1205.913797    9.536154\n",
       "5  1217.140015  1217.556960   -0.416945\n",
       "6  1243.010010  1216.742844   26.267166\n",
       "7  1243.640015  1241.376383    2.263631\n",
       "8  1253.069946  1239.859422   13.210525\n",
       "9  1245.489990  1254.694657   -9.204666"
      ]
     },
     "execution_count": 23,
     "metadata": {},
     "output_type": "execute_result"
    }
   ],
   "source": [
    "df_predicciones = pd.DataFrame({'valor real':Y_test, 'prediccion':y_test_predict, 'diferencia':Y_test-y_test_predict})\n",
    "df_predicciones = df_predicciones.reset_index(drop = True)\n",
    "df_predicciones.head(10)"
   ]
  },
  {
   "cell_type": "markdown",
   "metadata": {},
   "source": [
    " ## Reto 03:\n",
    "En este reto deberás tratar de mejorar la predicción modificando los elementos por muestra y/o modificando el regresor lineal para hacerlo polinomial."
   ]
  },
  {
   "cell_type": "code",
   "execution_count": 14,
   "metadata": {},
   "outputs": [],
   "source": [
    "import numpy as np\n",
    "import pandas as pd\n",
    "from sklearn.datasets import load_boston\n",
    "from sklearn.model_selection import train_test_split\n",
    "from sklearn.linear_model import LinearRegression\n",
    "from sklearn.preprocessing import PolynomialFeatures\n",
    "from sklearn.metrics import mean_squared_error\n",
    "\n",
    "def transformarSerieADataset(serie, elementosPorMuestra):\n",
    "    dataset = None\n",
    "    salidasDataset = None\n",
    "    for counter in range (len(serie)-elementosPorMuestra-1):        \n",
    "        muestra = np.array([serie[counter:counter+elementosPorMuestra]])        \n",
    "        salida = np.array([serie[counter+elementosPorMuestra]])\n",
    "        if dataset is None:\n",
    "            dataset = muestra\n",
    "        else:\n",
    "            dataset = np.append(dataset,muestra,axis = 0)\n",
    "        if salidasDataset is None:\n",
    "            salidasDataset = salida    \n",
    "        else:        \n",
    "            salidasDataset = np.append(salidasDataset,salida)\n",
    "    return dataset, salidasDataset"
   ]
  },
  {
   "cell_type": "code",
   "execution_count": null,
   "metadata": {},
   "outputs": [],
   "source": [
    "df_timeseries = pd.read_csv('timeseries_temperature.csv')\n",
    "df_timeseries['Temp']\n",
    "serie = df_timeseries['Temp'].to_numpy()"
   ]
  },
  {
   "cell_type": "markdown",
   "metadata": {},
   "source": [
    "#### Modifica los elementos por muestra de la función \"transformarSeriesADataset\" y determina el tamaño del subconjunto de prueba"
   ]
  },
  {
   "cell_type": "code",
   "execution_count": null,
   "metadata": {},
   "outputs": [],
   "source": [
    "X, Y = transformarSerieADataset(serie, elementosPorMuestra = ...)\n",
    "\n",
    "X_train, X_test, Y_train, Y_test = ...(... random_state=5)\n",
    "print(X_train.shape)\n",
    "print(X_test.shape)\n",
    "print(Y_train.shape)\n",
    "print(Y_test.shape)"
   ]
  },
  {
   "cell_type": "markdown",
   "metadata": {},
   "source": [
    "#### Entrena varios modelos polinomiales y compara tus resultados"
   ]
  },
  {
   "cell_type": "code",
   "execution_count": 52,
   "metadata": {},
   "outputs": [
    {
     "name": "stdout",
     "output_type": "stream",
     "text": [
      "Entrenamiento: MSE =5.949489851122652\n",
      "Pruebas: MSE =5.5482852963347655\n",
      "Entrenamiento: MSE3 =5.2137901345231645\n",
      "Pruebas: MSE3 =6.316796139885075\n",
      "Entrenamiento: MSE 4=3.048317834436222\n",
      "Pruebas: MSE 4=17.155942254958394\n",
      "Entrenamiento: MSE5 =5.7541111605999725e-18\n",
      "Pruebas: MSE5 =5940.262447078435\n",
      "Entrenamiento: MSE 6 =5.3429908631553076e-20\n",
      "Pruebas: MSE 6=7065.248508384491\n"
     ]
    },
    {
     "data": {
      "text/html": [
       "<div>\n",
       "<style scoped>\n",
       "    .dataframe tbody tr th:only-of-type {\n",
       "        vertical-align: middle;\n",
       "    }\n",
       "\n",
       "    .dataframe tbody tr th {\n",
       "        vertical-align: top;\n",
       "    }\n",
       "\n",
       "    .dataframe thead th {\n",
       "        text-align: right;\n",
       "    }\n",
       "</style>\n",
       "<table border=\"1\" class=\"dataframe\">\n",
       "  <thead>\n",
       "    <tr style=\"text-align: right;\">\n",
       "      <th></th>\n",
       "      <th>valor_real</th>\n",
       "      <th>prediccion</th>\n",
       "      <th>diferencia</th>\n",
       "    </tr>\n",
       "  </thead>\n",
       "  <tbody>\n",
       "    <tr>\n",
       "      <th>0</th>\n",
       "      <td>15.6</td>\n",
       "      <td>29.063609</td>\n",
       "      <td>-13.463609</td>\n",
       "    </tr>\n",
       "    <tr>\n",
       "      <th>1</th>\n",
       "      <td>16.2</td>\n",
       "      <td>10.053197</td>\n",
       "      <td>6.146803</td>\n",
       "    </tr>\n",
       "    <tr>\n",
       "      <th>2</th>\n",
       "      <td>16.3</td>\n",
       "      <td>33.229907</td>\n",
       "      <td>-16.929907</td>\n",
       "    </tr>\n",
       "    <tr>\n",
       "      <th>3</th>\n",
       "      <td>16.8</td>\n",
       "      <td>16.444101</td>\n",
       "      <td>0.355899</td>\n",
       "    </tr>\n",
       "    <tr>\n",
       "      <th>4</th>\n",
       "      <td>11.0</td>\n",
       "      <td>-7.951501</td>\n",
       "      <td>18.951501</td>\n",
       "    </tr>\n",
       "    <tr>\n",
       "      <th>5</th>\n",
       "      <td>8.5</td>\n",
       "      <td>16.540608</td>\n",
       "      <td>-8.040608</td>\n",
       "    </tr>\n",
       "    <tr>\n",
       "      <th>6</th>\n",
       "      <td>13.2</td>\n",
       "      <td>-52.354272</td>\n",
       "      <td>65.554272</td>\n",
       "    </tr>\n",
       "    <tr>\n",
       "      <th>7</th>\n",
       "      <td>13.0</td>\n",
       "      <td>-7.692880</td>\n",
       "      <td>20.692880</td>\n",
       "    </tr>\n",
       "    <tr>\n",
       "      <th>8</th>\n",
       "      <td>12.4</td>\n",
       "      <td>24.928913</td>\n",
       "      <td>-12.528913</td>\n",
       "    </tr>\n",
       "    <tr>\n",
       "      <th>9</th>\n",
       "      <td>13.0</td>\n",
       "      <td>41.953927</td>\n",
       "      <td>-28.953927</td>\n",
       "    </tr>\n",
       "  </tbody>\n",
       "</table>\n",
       "</div>"
      ],
      "text/plain": [
       "   valor_real  prediccion  diferencia\n",
       "0        15.6   29.063609  -13.463609\n",
       "1        16.2   10.053197    6.146803\n",
       "2        16.3   33.229907  -16.929907\n",
       "3        16.8   16.444101    0.355899\n",
       "4        11.0   -7.951501   18.951501\n",
       "5         8.5   16.540608   -8.040608\n",
       "6        13.2  -52.354272   65.554272\n",
       "7        13.0   -7.692880   20.692880\n",
       "8        12.4   24.928913  -12.528913\n",
       "9        13.0   41.953927  -28.953927"
      ]
     },
     "execution_count": 52,
     "metadata": {},
     "output_type": "execute_result"
    }
   ],
   "source": [
    "poly_model = LinearRegression()\n",
    "poly = PolynomialFeatures(degree=2)\n",
    "\n",
    "Xpolytrain = poly.fit_transform(X_train)\n",
    "Xpolytest = poly.fit_transform(X_test)\n",
    "\n",
    "poly_model.fit(Xpolytrain, Y_train)\n",
    "y_train_predict = poly_model.predict(Xpolytrain)\n",
    "\n",
    "MSE = mean_squared_error(Y_train,y_train_predict)\n",
    "print(\"Entrenamiento: MSE =\"+str(MSE))\n",
    "\n",
    "y_test_predict = poly_model.predict(Xpolytest)\n",
    "MSE = (mean_squared_error(Y_test, y_test_predict))\n",
    "print(\"Pruebas: MSE =\"+str(MSE))\n",
    "\n",
    "df_predicciones = pd.DataFrame({'valor_real':Y_test, 'prediccion':y_test_predict, 'diferencia':Y_test-y_test_predict})\n",
    "df_predicciones = df_predicciones.reset_index(drop = True)\n",
    "df_predicciones.head(10)\n",
    "\n",
    "#+++++++++++++++++++++++++++++++++++++++++++++++\n",
    "poly_model = LinearRegression()\n",
    "poly = PolynomialFeatures(degree=3)\n",
    "\n",
    "Xpolytrain = poly.fit_transform(X_train)\n",
    "Xpolytest = poly.fit_transform(X_test)\n",
    "\n",
    "poly_model.fit(Xpolytrain, Y_train)\n",
    "y_train_predict = poly_model.predict(Xpolytrain)\n",
    "\n",
    "MSE = mean_squared_error(Y_train,y_train_predict)\n",
    "print(\"Entrenamiento: MSE3 =\"+str(MSE))\n",
    "\n",
    "y_test_predict = poly_model.predict(Xpolytest)\n",
    "MSE = (mean_squared_error(Y_test, y_test_predict))\n",
    "print(\"Pruebas: MSE3 =\"+str(MSE))\n",
    "\n",
    "df_predicciones = pd.DataFrame({'valor_real':Y_test, 'prediccion':y_test_predict, 'diferencia':Y_test-y_test_predict})\n",
    "df_predicciones = df_predicciones.reset_index(drop = True)\n",
    "df_predicciones.head(10)\n",
    "#+++++++++++++++++++++++++++++++++++++++++++++++\n",
    "poly_model = LinearRegression()\n",
    "poly = PolynomialFeatures(degree=4)\n",
    "\n",
    "Xpolytrain = poly.fit_transform(X_train)\n",
    "Xpolytest = poly.fit_transform(X_test)\n",
    "\n",
    "poly_model.fit(Xpolytrain, Y_train)\n",
    "y_train_predict = poly_model.predict(Xpolytrain)\n",
    "\n",
    "MSE = mean_squared_error(Y_train,y_train_predict)\n",
    "print(\"Entrenamiento: MSE 4=\"+str(MSE))\n",
    "\n",
    "y_test_predict = poly_model.predict(Xpolytest)\n",
    "MSE = (mean_squared_error(Y_test, y_test_predict))\n",
    "print(\"Pruebas: MSE 4=\"+str(MSE))\n",
    "\n",
    "df_predicciones = pd.DataFrame({'valor_real':Y_test, 'prediccion':y_test_predict, 'diferencia':Y_test-y_test_predict})\n",
    "df_predicciones = df_predicciones.reset_index(drop = True)\n",
    "df_predicciones.head(10)\n",
    "#+++++++++++++++++++++++++++++++++++++++++++++++\n",
    "poly_model = LinearRegression()\n",
    "poly = PolynomialFeatures(degree=5)\n",
    "\n",
    "Xpolytrain = poly.fit_transform(X_train)\n",
    "Xpolytest = poly.fit_transform(X_test)\n",
    "\n",
    "poly_model.fit(Xpolytrain, Y_train)\n",
    "y_train_predict = poly_model.predict(Xpolytrain)\n",
    "\n",
    "MSE = mean_squared_error(Y_train,y_train_predict)\n",
    "print(\"Entrenamiento: MSE5 =\"+str(MSE))\n",
    "\n",
    "y_test_predict = poly_model.predict(Xpolytest)\n",
    "MSE = (mean_squared_error(Y_test, y_test_predict))\n",
    "print(\"Pruebas: MSE5 =\"+str(MSE))\n",
    "\n",
    "df_predicciones = pd.DataFrame({'valor_real':Y_test, 'prediccion':y_test_predict, 'diferencia':Y_test-y_test_predict})\n",
    "df_predicciones = df_predicciones.reset_index(drop = True)\n",
    "df_predicciones.head(10)\n",
    "#+++++++++++++++++++++++++++++++++++++++++++++++\n",
    "poly_model = LinearRegression()\n",
    "poly = PolynomialFeatures(degree=6)\n",
    "\n",
    "Xpolytrain = poly.fit_transform(X_train)\n",
    "Xpolytest = poly.fit_transform(X_test)\n",
    "\n",
    "poly_model.fit(Xpolytrain, Y_train)\n",
    "y_train_predict = poly_model.predict(Xpolytrain)\n",
    "\n",
    "MSE = mean_squared_error(Y_train,y_train_predict)\n",
    "print(\"Entrenamiento: MSE 6 =\"+str(MSE))\n",
    "\n",
    "y_test_predict = poly_model.predict(Xpolytest)\n",
    "MSE = (mean_squared_error(Y_test, y_test_predict))\n",
    "print(\"Pruebas: MSE 6=\"+str(MSE))\n",
    "\n",
    "df_predicciones = pd.DataFrame({'valor_real':Y_test, 'prediccion':y_test_predict, 'diferencia':Y_test-y_test_predict})\n",
    "df_predicciones = df_predicciones.reset_index(drop = True)\n",
    "df_predicciones.head(10)"
   ]
  },
  {
   "cell_type": "markdown",
   "metadata": {},
   "source": [
    "# POSTWORK:\n",
    "\n",
    "Para este postwork tendrás dos aplicaciones diferentes. En la primera de ella deberás entrenar un modelo para pronosticar las ventas semanales de Walmart, usando un modelo de regresión lineal o polinomial. Para ello, usa la base de datos llamada `Walmart_Store_sales.csv`. No olvides mostrar evaluar los modelos y compararlos para determinar cuál es el mejor.\n",
    "\n",
    "Te ayudo con la carga de datos en pandas:"
   ]
  },
  {
   "cell_type": "code",
   "execution_count": 3,
   "metadata": {},
   "outputs": [
    {
     "data": {
      "text/html": [
       "<div>\n",
       "<style scoped>\n",
       "    .dataframe tbody tr th:only-of-type {\n",
       "        vertical-align: middle;\n",
       "    }\n",
       "\n",
       "    .dataframe tbody tr th {\n",
       "        vertical-align: top;\n",
       "    }\n",
       "\n",
       "    .dataframe thead th {\n",
       "        text-align: right;\n",
       "    }\n",
       "</style>\n",
       "<table border=\"1\" class=\"dataframe\">\n",
       "  <thead>\n",
       "    <tr style=\"text-align: right;\">\n",
       "      <th></th>\n",
       "      <th>Store</th>\n",
       "      <th>Date</th>\n",
       "      <th>Weekly_Sales</th>\n",
       "      <th>Holiday_Flag</th>\n",
       "      <th>Temperature</th>\n",
       "      <th>Fuel_Price</th>\n",
       "      <th>CPI</th>\n",
       "      <th>Unemployment</th>\n",
       "    </tr>\n",
       "  </thead>\n",
       "  <tbody>\n",
       "    <tr>\n",
       "      <th>0</th>\n",
       "      <td>1</td>\n",
       "      <td>05-02-2010</td>\n",
       "      <td>1643690.90</td>\n",
       "      <td>0</td>\n",
       "      <td>42.31</td>\n",
       "      <td>2.572</td>\n",
       "      <td>211.096358</td>\n",
       "      <td>8.106</td>\n",
       "    </tr>\n",
       "    <tr>\n",
       "      <th>1</th>\n",
       "      <td>1</td>\n",
       "      <td>12-02-2010</td>\n",
       "      <td>1641957.44</td>\n",
       "      <td>1</td>\n",
       "      <td>38.51</td>\n",
       "      <td>2.548</td>\n",
       "      <td>211.242170</td>\n",
       "      <td>8.106</td>\n",
       "    </tr>\n",
       "    <tr>\n",
       "      <th>2</th>\n",
       "      <td>1</td>\n",
       "      <td>19-02-2010</td>\n",
       "      <td>1611968.17</td>\n",
       "      <td>0</td>\n",
       "      <td>39.93</td>\n",
       "      <td>2.514</td>\n",
       "      <td>211.289143</td>\n",
       "      <td>8.106</td>\n",
       "    </tr>\n",
       "    <tr>\n",
       "      <th>3</th>\n",
       "      <td>1</td>\n",
       "      <td>26-02-2010</td>\n",
       "      <td>1409727.59</td>\n",
       "      <td>0</td>\n",
       "      <td>46.63</td>\n",
       "      <td>2.561</td>\n",
       "      <td>211.319643</td>\n",
       "      <td>8.106</td>\n",
       "    </tr>\n",
       "    <tr>\n",
       "      <th>4</th>\n",
       "      <td>1</td>\n",
       "      <td>05-03-2010</td>\n",
       "      <td>1554806.68</td>\n",
       "      <td>0</td>\n",
       "      <td>46.50</td>\n",
       "      <td>2.625</td>\n",
       "      <td>211.350143</td>\n",
       "      <td>8.106</td>\n",
       "    </tr>\n",
       "  </tbody>\n",
       "</table>\n",
       "</div>"
      ],
      "text/plain": [
       "   Store        Date  Weekly_Sales  Holiday_Flag  Temperature  Fuel_Price  \\\n",
       "0      1  05-02-2010    1643690.90             0        42.31       2.572   \n",
       "1      1  12-02-2010    1641957.44             1        38.51       2.548   \n",
       "2      1  19-02-2010    1611968.17             0        39.93       2.514   \n",
       "3      1  26-02-2010    1409727.59             0        46.63       2.561   \n",
       "4      1  05-03-2010    1554806.68             0        46.50       2.625   \n",
       "\n",
       "          CPI  Unemployment  \n",
       "0  211.096358         8.106  \n",
       "1  211.242170         8.106  \n",
       "2  211.289143         8.106  \n",
       "3  211.319643         8.106  \n",
       "4  211.350143         8.106  "
      ]
     },
     "execution_count": 3,
     "metadata": {},
     "output_type": "execute_result"
    }
   ],
   "source": [
    "df = pd.read_csv(\"Walmart_Store_sales.csv\")\n",
    "df.head()"
   ]
  },
  {
   "cell_type": "code",
   "execution_count": 4,
   "metadata": {},
   "outputs": [
    {
     "data": {
      "text/plain": [
       "Index(['Store', 'Date', 'Weekly_Sales', 'Holiday_Flag', 'Temperature',\n",
       "       'Fuel_Price', 'CPI', 'Unemployment'],\n",
       "      dtype='object')"
      ]
     },
     "execution_count": 4,
     "metadata": {},
     "output_type": "execute_result"
    }
   ],
   "source": [
    "# Vamos a revisar con qué descriptores contamos\n",
    "df.columns"
   ]
  },
  {
   "cell_type": "code",
   "execution_count": 18,
   "metadata": {},
   "outputs": [],
   "source": [
    "# Selecciona tus descriptores para la matriz X\n",
    "X = df[\"Fuel_Price\"].to_numpy()\n",
    "Y = df[\"Weekly_Sales\"].to_numpy()"
   ]
  },
  {
   "cell_type": "code",
   "execution_count": null,
   "metadata": {},
   "outputs": [],
   "source": [
    "### DESARROLLA AQUÍ TU CÓDIGO ###"
   ]
  },
  {
   "cell_type": "markdown",
   "metadata": {},
   "source": [
    "Como segunda aplicación, vamos a descargar datos históricos del precio de alguna acción de la API pública de Yahoo! Finance. Para ellos vamos a instalar la siguiente librería:"
   ]
  },
  {
   "cell_type": "code",
   "execution_count": null,
   "metadata": {},
   "outputs": [],
   "source": [
    "#!pip install yfinance no ejecutar directamente"
   ]
  },
  {
   "cell_type": "markdown",
   "metadata": {},
   "source": [
    "Ahora vamos a importar la librería"
   ]
  },
  {
   "cell_type": "code",
   "execution_count": 2,
   "metadata": {},
   "outputs": [],
   "source": [
    "import yfinance as yf"
   ]
  },
  {
   "cell_type": "markdown",
   "metadata": {},
   "source": [
    "La librería de Yahoo Finance tiene una función llamada $download$ la cual, como podrás imaginar, nos permite obtener datos de la API para almacenarlos como un Pandas en nuestro espacio de trabajo. Esta función toma 3 argumentos principales; veremos que hay máx:\n",
    "1) ticker: El ticker de la acción\n",
    "2) start_date: Comienzo de los datos\n",
    "3) end_date: final de los datos\n",
    "\n",
    "Por default nos dará la cotización diaria, pero esto lo modificaremos más adelante. Vamos a descargar nuestro primer ejemplo:"
   ]
  },
  {
   "cell_type": "code",
   "execution_count": 3,
   "metadata": {},
   "outputs": [
    {
     "name": "stdout",
     "output_type": "stream",
     "text": [
      "[*********************100%***********************]  1 of 1 completed\n",
      "                  Open        High         Low       Close   Adj Close  \\\n",
      "Date                                                                     \n",
      "2015-01-02  527.561584  529.815369  522.665039  523.373108  523.373108   \n",
      "2015-01-05  521.827332  522.894409  511.655243  512.463013  512.463013   \n",
      "2015-01-06  513.589966  514.761719  499.678131  500.585632  500.585632   \n",
      "2015-01-07  505.611847  505.855164  498.281952  499.727997  499.727997   \n",
      "2015-01-08  496.626526  502.101471  489.655640  501.303680  501.303680   \n",
      "\n",
      "             Volume  \n",
      "Date                 \n",
      "2015-01-02  1447563  \n",
      "2015-01-05  2059840  \n",
      "2015-01-06  2899940  \n",
      "2015-01-07  2065054  \n",
      "2015-01-08  3353582  \n"
     ]
    }
   ],
   "source": [
    "# Definimos la fecha inicial y final\n",
    "start_date = '2015-01-01'\n",
    "end_date = '2021-10-15'\n",
    "\n",
    "# Seleccionamos el ticker, el cual podemos encontrar directamente en Yahoo Finance o en cualquier fuente\n",
    "ticker = 'GOOG'\n",
    "\n",
    "# Descargamos los datos\n",
    "accion = yf.download(ticker, start_date, end_date)\n",
    "\n",
    "# Revisar datos y tipo de clase\n",
    "print(accion.head())"
   ]
  },
  {
   "cell_type": "markdown",
   "metadata": {},
   "source": [
    "En esta caso vamos a construir un modelo de predicción, por lo que nuestra variable objetivo es el precio de cierre ajustado y los descriptores serán los rezagos del precio, por lo que usaremos la función `transformarSerieADataset`. El objetivo es que entrenes varios modelos autorregresivos y determinas cuál es el mejor para el pronóstico"
   ]
  },
  {
   "cell_type": "code",
   "execution_count": 4,
   "metadata": {},
   "outputs": [
    {
     "data": {
      "text/plain": [
       "1709"
      ]
     },
     "execution_count": 4,
     "metadata": {},
     "output_type": "execute_result"
    }
   ],
   "source": [
    "adj_close = accion['Adj Close']\n",
    "\n",
    "len(adj_close)"
   ]
  },
  {
   "cell_type": "code",
   "execution_count": 5,
   "metadata": {},
   "outputs": [],
   "source": [
    "def transformarSerieADataset(serie, elementosPorMuestra):\n",
    "    dataset = None\n",
    "    salidasDataset = None\n",
    "    for counter in range (len(serie)-elementosPorMuestra-1):        \n",
    "        muestra = np.array([serie[counter:counter+elementosPorMuestra]])        \n",
    "        salida = np.array([serie[counter+elementosPorMuestra]])\n",
    "        if dataset is None:\n",
    "            dataset = muestra\n",
    "        else:\n",
    "            dataset = np.append(dataset,muestra,axis = 0)\n",
    "        if salidasDataset is None:\n",
    "            salidasDataset = salida    \n",
    "        else:        \n",
    "            salidasDataset = np.append(salidasDataset,salida)\n",
    "    return dataset, salidasDataset"
   ]
  },
  {
   "cell_type": "code",
   "execution_count": 9,
   "metadata": {},
   "outputs": [
    {
     "name": "stdout",
     "output_type": "stream",
     "text": [
      "1698\n",
      "1698\n"
     ]
    }
   ],
   "source": [
    "X, Y = transformarSerieADataset(adj_close, elementosPorMuestra = 10)\n",
    "\n",
    "print(len(X))\n",
    "print(len(Y))"
   ]
  },
  {
   "cell_type": "code",
   "execution_count": 10,
   "metadata": {},
   "outputs": [
    {
     "name": "stdout",
     "output_type": "stream",
     "text": [
      "(1188, 10)\n",
      "(510, 10)\n",
      "(1188,)\n",
      "(510,)\n"
     ]
    }
   ],
   "source": [
    "### DESARROLLA AQUÍ TU CÓDIGO ###\n",
    "\n",
    "\n",
    "X_train, X_test, Y_train, Y_test = train_test_split(X, Y,shuffle=False, test_size = 0.3)\n",
    "print(X_train.shape)\n",
    "print(X_test.shape)\n",
    "print(Y_train.shape)\n",
    "print(Y_test.shape)"
   ]
  },
  {
   "cell_type": "code",
   "execution_count": 11,
   "metadata": {},
   "outputs": [
    {
     "name": "stdout",
     "output_type": "stream",
     "text": [
      "Entrenamiento: MSE =194.59178171661102\n",
      "Pruebas: MSE =1010.9617023683251\n"
     ]
    }
   ],
   "source": [
    "lin_model = LinearRegression()\n",
    "lin_model.fit(X_train, Y_train)\n",
    "\n",
    "y_train_predict = lin_model.predict(X_train)\n",
    "MSE = mean_squared_error(Y_train,y_train_predict)\n",
    "print(\"Entrenamiento: MSE =\"+str(MSE))\n",
    "\n",
    "y_test_predict = lin_model.predict(X_test)\n",
    "MSE = (mean_squared_error(Y_test, y_test_predict))\n",
    "print(\"Pruebas: MSE =\"+str(MSE))"
   ]
  },
  {
   "cell_type": "code",
   "execution_count": 12,
   "metadata": {},
   "outputs": [
    {
     "data": {
      "text/html": [
       "<div>\n",
       "<style scoped>\n",
       "    .dataframe tbody tr th:only-of-type {\n",
       "        vertical-align: middle;\n",
       "    }\n",
       "\n",
       "    .dataframe tbody tr th {\n",
       "        vertical-align: top;\n",
       "    }\n",
       "\n",
       "    .dataframe thead th {\n",
       "        text-align: right;\n",
       "    }\n",
       "</style>\n",
       "<table border=\"1\" class=\"dataframe\">\n",
       "  <thead>\n",
       "    <tr style=\"text-align: right;\">\n",
       "      <th></th>\n",
       "      <th>valor real</th>\n",
       "      <th>prediccion</th>\n",
       "      <th>diferencia</th>\n",
       "    </tr>\n",
       "  </thead>\n",
       "  <tbody>\n",
       "    <tr>\n",
       "      <th>0</th>\n",
       "      <td>1207.680054</td>\n",
       "      <td>1206.921174</td>\n",
       "      <td>0.758879</td>\n",
       "    </tr>\n",
       "    <tr>\n",
       "      <th>1</th>\n",
       "      <td>1189.130005</td>\n",
       "      <td>1208.457691</td>\n",
       "      <td>-19.327686</td>\n",
       "    </tr>\n",
       "    <tr>\n",
       "      <th>2</th>\n",
       "      <td>1202.310059</td>\n",
       "      <td>1192.771140</td>\n",
       "      <td>9.538918</td>\n",
       "    </tr>\n",
       "    <tr>\n",
       "      <th>3</th>\n",
       "      <td>1208.670044</td>\n",
       "      <td>1204.330994</td>\n",
       "      <td>4.339050</td>\n",
       "    </tr>\n",
       "    <tr>\n",
       "      <th>4</th>\n",
       "      <td>1215.449951</td>\n",
       "      <td>1205.913797</td>\n",
       "      <td>9.536154</td>\n",
       "    </tr>\n",
       "    <tr>\n",
       "      <th>5</th>\n",
       "      <td>1217.140015</td>\n",
       "      <td>1217.556960</td>\n",
       "      <td>-0.416945</td>\n",
       "    </tr>\n",
       "    <tr>\n",
       "      <th>6</th>\n",
       "      <td>1243.010010</td>\n",
       "      <td>1216.742844</td>\n",
       "      <td>26.267166</td>\n",
       "    </tr>\n",
       "    <tr>\n",
       "      <th>7</th>\n",
       "      <td>1243.640015</td>\n",
       "      <td>1241.376383</td>\n",
       "      <td>2.263631</td>\n",
       "    </tr>\n",
       "    <tr>\n",
       "      <th>8</th>\n",
       "      <td>1253.069946</td>\n",
       "      <td>1239.859422</td>\n",
       "      <td>13.210525</td>\n",
       "    </tr>\n",
       "    <tr>\n",
       "      <th>9</th>\n",
       "      <td>1245.489990</td>\n",
       "      <td>1254.694657</td>\n",
       "      <td>-9.204666</td>\n",
       "    </tr>\n",
       "  </tbody>\n",
       "</table>\n",
       "</div>"
      ],
      "text/plain": [
       "    valor real   prediccion  diferencia\n",
       "0  1207.680054  1206.921174    0.758879\n",
       "1  1189.130005  1208.457691  -19.327686\n",
       "2  1202.310059  1192.771140    9.538918\n",
       "3  1208.670044  1204.330994    4.339050\n",
       "4  1215.449951  1205.913797    9.536154\n",
       "5  1217.140015  1217.556960   -0.416945\n",
       "6  1243.010010  1216.742844   26.267166\n",
       "7  1243.640015  1241.376383    2.263631\n",
       "8  1253.069946  1239.859422   13.210525\n",
       "9  1245.489990  1254.694657   -9.204666"
      ]
     },
     "execution_count": 12,
     "metadata": {},
     "output_type": "execute_result"
    }
   ],
   "source": [
    "df_predicciones = pd.DataFrame({'valor real':Y_test, 'prediccion':y_test_predict, 'diferencia':Y_test-y_test_predict})\n",
    "df_predicciones = df_predicciones.reset_index(drop = True)\n",
    "df_predicciones.head(10)"
   ]
  },
  {
   "cell_type": "code",
   "execution_count": 19,
   "metadata": {},
   "outputs": [
    {
     "name": "stdout",
     "output_type": "stream",
     "text": [
      "Entrenamiento: MSE =179.209487404396\n",
      "Pruebas: MSE =2490.4377258496397\n",
      "Pruebas: len = 510\n",
      "Pruebas: len Y_test = 510\n"
     ]
    },
    {
     "data": {
      "text/html": [
       "<div>\n",
       "<style scoped>\n",
       "    .dataframe tbody tr th:only-of-type {\n",
       "        vertical-align: middle;\n",
       "    }\n",
       "\n",
       "    .dataframe tbody tr th {\n",
       "        vertical-align: top;\n",
       "    }\n",
       "\n",
       "    .dataframe thead th {\n",
       "        text-align: right;\n",
       "    }\n",
       "</style>\n",
       "<table border=\"1\" class=\"dataframe\">\n",
       "  <thead>\n",
       "    <tr style=\"text-align: right;\">\n",
       "      <th></th>\n",
       "      <th>valor_real</th>\n",
       "      <th>prediccion</th>\n",
       "      <th>diferencia</th>\n",
       "    </tr>\n",
       "  </thead>\n",
       "  <tbody>\n",
       "    <tr>\n",
       "      <th>0</th>\n",
       "      <td>1207.680054</td>\n",
       "      <td>1207.170701</td>\n",
       "      <td>0.509353</td>\n",
       "    </tr>\n",
       "    <tr>\n",
       "      <th>1</th>\n",
       "      <td>1189.130005</td>\n",
       "      <td>1209.570968</td>\n",
       "      <td>-20.440963</td>\n",
       "    </tr>\n",
       "    <tr>\n",
       "      <th>2</th>\n",
       "      <td>1202.310059</td>\n",
       "      <td>1198.209328</td>\n",
       "      <td>4.100730</td>\n",
       "    </tr>\n",
       "    <tr>\n",
       "      <th>3</th>\n",
       "      <td>1208.670044</td>\n",
       "      <td>1202.708393</td>\n",
       "      <td>5.961651</td>\n",
       "    </tr>\n",
       "    <tr>\n",
       "      <th>4</th>\n",
       "      <td>1215.449951</td>\n",
       "      <td>1199.748449</td>\n",
       "      <td>15.701502</td>\n",
       "    </tr>\n",
       "    <tr>\n",
       "      <th>5</th>\n",
       "      <td>1217.140015</td>\n",
       "      <td>1218.643974</td>\n",
       "      <td>-1.503960</td>\n",
       "    </tr>\n",
       "    <tr>\n",
       "      <th>6</th>\n",
       "      <td>1243.010010</td>\n",
       "      <td>1221.736592</td>\n",
       "      <td>21.273418</td>\n",
       "    </tr>\n",
       "    <tr>\n",
       "      <th>7</th>\n",
       "      <td>1243.640015</td>\n",
       "      <td>1246.893501</td>\n",
       "      <td>-3.253487</td>\n",
       "    </tr>\n",
       "    <tr>\n",
       "      <th>8</th>\n",
       "      <td>1253.069946</td>\n",
       "      <td>1238.056636</td>\n",
       "      <td>15.013310</td>\n",
       "    </tr>\n",
       "    <tr>\n",
       "      <th>9</th>\n",
       "      <td>1245.489990</td>\n",
       "      <td>1256.464416</td>\n",
       "      <td>-10.974426</td>\n",
       "    </tr>\n",
       "  </tbody>\n",
       "</table>\n",
       "</div>"
      ],
      "text/plain": [
       "    valor_real   prediccion  diferencia\n",
       "0  1207.680054  1207.170701    0.509353\n",
       "1  1189.130005  1209.570968  -20.440963\n",
       "2  1202.310059  1198.209328    4.100730\n",
       "3  1208.670044  1202.708393    5.961651\n",
       "4  1215.449951  1199.748449   15.701502\n",
       "5  1217.140015  1218.643974   -1.503960\n",
       "6  1243.010010  1221.736592   21.273418\n",
       "7  1243.640015  1246.893501   -3.253487\n",
       "8  1253.069946  1238.056636   15.013310\n",
       "9  1245.489990  1256.464416  -10.974426"
      ]
     },
     "execution_count": 19,
     "metadata": {},
     "output_type": "execute_result"
    }
   ],
   "source": [
    "poly_model = LinearRegression()\n",
    "poly = PolynomialFeatures(degree=2)\n",
    "\n",
    "Xpolytrain = poly.fit_transform(X_train)\n",
    "Xpolytest = poly.fit_transform(X_test)\n",
    "\n",
    "poly_model.fit(Xpolytrain, Y_train)\n",
    "y_train_predict = poly_model.predict(Xpolytrain)\n",
    "\n",
    "MSE = mean_squared_error(Y_train,y_train_predict)\n",
    "print(\"Entrenamiento: MSE =\"+str(MSE))\n",
    "\n",
    "y_test_predict = poly_model.predict(Xpolytest)\n",
    "MSE = (mean_squared_error(Y_test, y_test_predict))\n",
    "print(\"Pruebas: MSE =\"+str(MSE))\n",
    "print(\"Pruebas: len = {}\".format(len(y_test_predict)))\n",
    "print(\"Pruebas: len Y_test = {}\".format(len(Y_test)))\n",
    "df_predicciones = pd.DataFrame({'valor_real':Y_test, 'prediccion':y_test_predict, 'diferencia':Y_test-y_test_predict})\n",
    "df_predicciones = df_predicciones.reset_index(drop = True)\n",
    "df_predicciones.head(10)\n"
   ]
  },
  {
   "cell_type": "code",
   "execution_count": 16,
   "metadata": {},
   "outputs": [
    {
     "data": {
      "image/png": "[encoded data removed]",
      "text/plain": [
       "<Figure size 1152x576 with 1 Axes>"
      ]
     },
     "metadata": {
      "needs_background": "light"
     },
     "output_type": "display_data"
    }
   ],
   "source": [
    "import matplotlib.pyplot as plt\n",
    "\n",
    "plt.figure(figsize = (16,8))\n",
    "plt.plot(y_test_predict, label = 'GOOGL Predicción', lw = 2, alpha = 0.7)\n",
    "#plt.plot(Y_test, label = 'GOOGL Observado', lw = 2, alpha = 0.7)\n",
    "plt.title('Predicción precio de BTC')\n",
    "plt.ylabel('Precio en USD')\n",
    "plt.xlabel('Tiempo')\n",
    "plt.legend()\n",
    "plt.show()"
   ]
  }
 ],
 "metadata": {
  "kernelspec": {
   "display_name": "Python 3",
   "language": "python",
   "name": "python3"
  },
  "language_info": {
   "codemirror_mode": {
    "name": "ipython",
    "version": 3
   },
   "file_extension": ".py",
   "mimetype": "text/x-python",
   "name": "python",
   "nbconvert_exporter": "python",
   "pygments_lexer": "ipython3",
   "version": "3.8.8"
  }
 },
 "nbformat": 4,
 "nbformat_minor": 4
}
